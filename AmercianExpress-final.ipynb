{
 "cells": [
  {
   "cell_type": "markdown",
   "id": "7ada585c",
   "metadata": {},
   "source": [
    "**Import the pandas library using the import statement and alias it as pd. Then, I have use the pd.read_csv() function to read in the CSV file located at the specified path and assign the resulting dataframe to the variable dataset."
   ]
  },
  {
   "cell_type": "code",
   "execution_count": 1,
   "id": "25260ab4",
   "metadata": {},
   "outputs": [],
   "source": [
    "import pandas as pd\n",
    "import numpy as np "
   ]
  },
  {
   "cell_type": "code",
   "execution_count": 2,
   "id": "3407b882",
   "metadata": {},
   "outputs": [],
   "source": [
    "dataset=pd.read_csv(\".//creditcard.csv\")"
   ]
  },
  {
   "cell_type": "markdown",
   "id": "241b44fd",
   "metadata": {},
   "source": [
    "**To display the first few rows of a dataset "
   ]
  },
  {
   "cell_type": "code",
   "execution_count": 3,
   "id": "618138df",
   "metadata": {},
   "outputs": [
    {
     "data": {
      "text/html": [
       "<div>\n",
       "<style scoped>\n",
       "    .dataframe tbody tr th:only-of-type {\n",
       "        vertical-align: middle;\n",
       "    }\n",
       "\n",
       "    .dataframe tbody tr th {\n",
       "        vertical-align: top;\n",
       "    }\n",
       "\n",
       "    .dataframe thead th {\n",
       "        text-align: right;\n",
       "    }\n",
       "</style>\n",
       "<table border=\"1\" class=\"dataframe\">\n",
       "  <thead>\n",
       "    <tr style=\"text-align: right;\">\n",
       "      <th></th>\n",
       "      <th>Time</th>\n",
       "      <th>V1</th>\n",
       "      <th>V2</th>\n",
       "      <th>V3</th>\n",
       "      <th>V4</th>\n",
       "      <th>V5</th>\n",
       "      <th>V6</th>\n",
       "      <th>V7</th>\n",
       "      <th>V8</th>\n",
       "      <th>V9</th>\n",
       "      <th>...</th>\n",
       "      <th>V21</th>\n",
       "      <th>V22</th>\n",
       "      <th>V23</th>\n",
       "      <th>V24</th>\n",
       "      <th>V25</th>\n",
       "      <th>V26</th>\n",
       "      <th>V27</th>\n",
       "      <th>V28</th>\n",
       "      <th>Amount</th>\n",
       "      <th>Class</th>\n",
       "    </tr>\n",
       "  </thead>\n",
       "  <tbody>\n",
       "    <tr>\n",
       "      <th>0</th>\n",
       "      <td>0.0</td>\n",
       "      <td>-1.359807</td>\n",
       "      <td>-0.072781</td>\n",
       "      <td>2.536347</td>\n",
       "      <td>1.378155</td>\n",
       "      <td>-0.338321</td>\n",
       "      <td>0.462388</td>\n",
       "      <td>0.239599</td>\n",
       "      <td>0.098698</td>\n",
       "      <td>0.363787</td>\n",
       "      <td>...</td>\n",
       "      <td>-0.018307</td>\n",
       "      <td>0.277838</td>\n",
       "      <td>-0.110474</td>\n",
       "      <td>0.066928</td>\n",
       "      <td>0.128539</td>\n",
       "      <td>-0.189115</td>\n",
       "      <td>0.133558</td>\n",
       "      <td>-0.021053</td>\n",
       "      <td>149.62</td>\n",
       "      <td>0</td>\n",
       "    </tr>\n",
       "    <tr>\n",
       "      <th>1</th>\n",
       "      <td>0.0</td>\n",
       "      <td>1.191857</td>\n",
       "      <td>0.266151</td>\n",
       "      <td>0.166480</td>\n",
       "      <td>0.448154</td>\n",
       "      <td>0.060018</td>\n",
       "      <td>-0.082361</td>\n",
       "      <td>-0.078803</td>\n",
       "      <td>0.085102</td>\n",
       "      <td>-0.255425</td>\n",
       "      <td>...</td>\n",
       "      <td>-0.225775</td>\n",
       "      <td>-0.638672</td>\n",
       "      <td>0.101288</td>\n",
       "      <td>-0.339846</td>\n",
       "      <td>0.167170</td>\n",
       "      <td>0.125895</td>\n",
       "      <td>-0.008983</td>\n",
       "      <td>0.014724</td>\n",
       "      <td>2.69</td>\n",
       "      <td>0</td>\n",
       "    </tr>\n",
       "    <tr>\n",
       "      <th>2</th>\n",
       "      <td>1.0</td>\n",
       "      <td>-1.358354</td>\n",
       "      <td>-1.340163</td>\n",
       "      <td>1.773209</td>\n",
       "      <td>0.379780</td>\n",
       "      <td>-0.503198</td>\n",
       "      <td>1.800499</td>\n",
       "      <td>0.791461</td>\n",
       "      <td>0.247676</td>\n",
       "      <td>-1.514654</td>\n",
       "      <td>...</td>\n",
       "      <td>0.247998</td>\n",
       "      <td>0.771679</td>\n",
       "      <td>0.909412</td>\n",
       "      <td>-0.689281</td>\n",
       "      <td>-0.327642</td>\n",
       "      <td>-0.139097</td>\n",
       "      <td>-0.055353</td>\n",
       "      <td>-0.059752</td>\n",
       "      <td>378.66</td>\n",
       "      <td>0</td>\n",
       "    </tr>\n",
       "    <tr>\n",
       "      <th>3</th>\n",
       "      <td>1.0</td>\n",
       "      <td>-0.966272</td>\n",
       "      <td>-0.185226</td>\n",
       "      <td>1.792993</td>\n",
       "      <td>-0.863291</td>\n",
       "      <td>-0.010309</td>\n",
       "      <td>1.247203</td>\n",
       "      <td>0.237609</td>\n",
       "      <td>0.377436</td>\n",
       "      <td>-1.387024</td>\n",
       "      <td>...</td>\n",
       "      <td>-0.108300</td>\n",
       "      <td>0.005274</td>\n",
       "      <td>-0.190321</td>\n",
       "      <td>-1.175575</td>\n",
       "      <td>0.647376</td>\n",
       "      <td>-0.221929</td>\n",
       "      <td>0.062723</td>\n",
       "      <td>0.061458</td>\n",
       "      <td>123.50</td>\n",
       "      <td>0</td>\n",
       "    </tr>\n",
       "    <tr>\n",
       "      <th>4</th>\n",
       "      <td>2.0</td>\n",
       "      <td>-1.158233</td>\n",
       "      <td>0.877737</td>\n",
       "      <td>1.548718</td>\n",
       "      <td>0.403034</td>\n",
       "      <td>-0.407193</td>\n",
       "      <td>0.095921</td>\n",
       "      <td>0.592941</td>\n",
       "      <td>-0.270533</td>\n",
       "      <td>0.817739</td>\n",
       "      <td>...</td>\n",
       "      <td>-0.009431</td>\n",
       "      <td>0.798278</td>\n",
       "      <td>-0.137458</td>\n",
       "      <td>0.141267</td>\n",
       "      <td>-0.206010</td>\n",
       "      <td>0.502292</td>\n",
       "      <td>0.219422</td>\n",
       "      <td>0.215153</td>\n",
       "      <td>69.99</td>\n",
       "      <td>0</td>\n",
       "    </tr>\n",
       "  </tbody>\n",
       "</table>\n",
       "<p>5 rows × 31 columns</p>\n",
       "</div>"
      ],
      "text/plain": [
       "   Time        V1        V2        V3        V4        V5        V6        V7  \\\n",
       "0   0.0 -1.359807 -0.072781  2.536347  1.378155 -0.338321  0.462388  0.239599   \n",
       "1   0.0  1.191857  0.266151  0.166480  0.448154  0.060018 -0.082361 -0.078803   \n",
       "2   1.0 -1.358354 -1.340163  1.773209  0.379780 -0.503198  1.800499  0.791461   \n",
       "3   1.0 -0.966272 -0.185226  1.792993 -0.863291 -0.010309  1.247203  0.237609   \n",
       "4   2.0 -1.158233  0.877737  1.548718  0.403034 -0.407193  0.095921  0.592941   \n",
       "\n",
       "         V8        V9  ...       V21       V22       V23       V24       V25  \\\n",
       "0  0.098698  0.363787  ... -0.018307  0.277838 -0.110474  0.066928  0.128539   \n",
       "1  0.085102 -0.255425  ... -0.225775 -0.638672  0.101288 -0.339846  0.167170   \n",
       "2  0.247676 -1.514654  ...  0.247998  0.771679  0.909412 -0.689281 -0.327642   \n",
       "3  0.377436 -1.387024  ... -0.108300  0.005274 -0.190321 -1.175575  0.647376   \n",
       "4 -0.270533  0.817739  ... -0.009431  0.798278 -0.137458  0.141267 -0.206010   \n",
       "\n",
       "        V26       V27       V28  Amount  Class  \n",
       "0 -0.189115  0.133558 -0.021053  149.62      0  \n",
       "1  0.125895 -0.008983  0.014724    2.69      0  \n",
       "2 -0.139097 -0.055353 -0.059752  378.66      0  \n",
       "3 -0.221929  0.062723  0.061458  123.50      0  \n",
       "4  0.502292  0.219422  0.215153   69.99      0  \n",
       "\n",
       "[5 rows x 31 columns]"
      ]
     },
     "execution_count": 3,
     "metadata": {},
     "output_type": "execute_result"
    }
   ],
   "source": [
    "dataset.head()"
   ]
  },
  {
   "cell_type": "markdown",
   "id": "7fa01e03",
   "metadata": {},
   "source": [
    "**To display the columns of a dataset "
   ]
  },
  {
   "cell_type": "code",
   "execution_count": 4,
   "id": "05a3ef88",
   "metadata": {},
   "outputs": [
    {
     "data": {
      "text/plain": [
       "Index(['Time', 'V1', 'V2', 'V3', 'V4', 'V5', 'V6', 'V7', 'V8', 'V9', 'V10',\n",
       "       'V11', 'V12', 'V13', 'V14', 'V15', 'V16', 'V17', 'V18', 'V19', 'V20',\n",
       "       'V21', 'V22', 'V23', 'V24', 'V25', 'V26', 'V27', 'V28', 'Amount',\n",
       "       'Class'],\n",
       "      dtype='object')"
      ]
     },
     "execution_count": 4,
     "metadata": {},
     "output_type": "execute_result"
    }
   ],
   "source": [
    "dataset.columns"
   ]
  },
  {
   "cell_type": "markdown",
   "id": "52d1bdb4",
   "metadata": {},
   "source": [
    "**To display the value counts of the 'Class' column"
   ]
  },
  {
   "cell_type": "code",
   "execution_count": 5,
   "id": "4d31ff3c",
   "metadata": {},
   "outputs": [
    {
     "data": {
      "text/plain": [
       "0    284315\n",
       "1       492\n",
       "Name: Class, dtype: int64"
      ]
     },
     "execution_count": 5,
     "metadata": {},
     "output_type": "execute_result"
    }
   ],
   "source": [
    "dataset['Class'].value_counts()"
   ]
  },
  {
   "cell_type": "markdown",
   "id": "e98222e7",
   "metadata": {},
   "source": [
    "**To check the number of missing values in each column of the dataset"
   ]
  },
  {
   "cell_type": "code",
   "execution_count": 6,
   "id": "0b514be4",
   "metadata": {},
   "outputs": [
    {
     "data": {
      "text/plain": [
       "Time      0\n",
       "V1        0\n",
       "V2        0\n",
       "V3        0\n",
       "V4        0\n",
       "V5        0\n",
       "V6        0\n",
       "V7        0\n",
       "V8        0\n",
       "V9        0\n",
       "V10       0\n",
       "V11       0\n",
       "V12       0\n",
       "V13       0\n",
       "V14       0\n",
       "V15       0\n",
       "V16       0\n",
       "V17       0\n",
       "V18       0\n",
       "V19       0\n",
       "V20       0\n",
       "V21       0\n",
       "V22       0\n",
       "V23       0\n",
       "V24       0\n",
       "V25       0\n",
       "V26       0\n",
       "V27       0\n",
       "V28       0\n",
       "Amount    0\n",
       "Class     0\n",
       "dtype: int64"
      ]
     },
     "execution_count": 6,
     "metadata": {},
     "output_type": "execute_result"
    }
   ],
   "source": [
    "dataset.isna().sum()"
   ]
  },
  {
   "cell_type": "markdown",
   "id": "dae4f275",
   "metadata": {},
   "source": [
    "**The seaborn module is a visualization library based on matplotlib. It provides a high-level interface for creating informative and attractive statistical graphics. The matplotlib.pyplot module is a collection of functions that make matplotlib work like MATLAB. It provides a convenient way to create plots and charts.\n",
    "Once these modules are imported, we can use their functions to create various types of plots and visualizations in the Jupyter Notebook."
   ]
  },
  {
   "cell_type": "code",
   "execution_count": 7,
   "id": "8fb24193",
   "metadata": {},
   "outputs": [],
   "source": [
    "import seaborn as sns\n",
    "import matplotlib.pyplot as plt"
   ]
  },
  {
   "cell_type": "markdown",
   "id": "1d387c5b",
   "metadata": {},
   "source": [
    "**plotting count of classes"
   ]
  },
  {
   "cell_type": "code",
   "execution_count": 8,
   "id": "91406371",
   "metadata": {},
   "outputs": [
    {
     "data": {
      "image/png": "[encoded data removed]",
      "text/plain": [
       "<Figure size 640x480 with 1 Axes>"
      ]
     },
     "metadata": {},
     "output_type": "display_data"
    }
   ],
   "source": [
    "sns.countplot(x=dataset[\"Class\"])\n",
    "sns.set_theme(style=\"whitegrid\")"
   ]
  },
  {
   "cell_type": "markdown",
   "id": "dc0f30fe",
   "metadata": {},
   "source": [
    "**Checking duplicacy in the given dataset"
   ]
  },
  {
   "cell_type": "code",
   "execution_count": 12,
   "id": "03b7a3c6",
   "metadata": {},
   "outputs": [
    {
     "data": {
      "text/plain": [
       "1081"
      ]
     },
     "execution_count": 12,
     "metadata": {},
     "output_type": "execute_result"
    }
   ],
   "source": [
    "dataset.duplicated().sum()"
   ]
  },
  {
   "cell_type": "markdown",
   "id": "cc9e863e",
   "metadata": {},
   "source": [
    "**Drop the dupicate data"
   ]
  },
  {
   "cell_type": "code",
   "execution_count": 13,
   "id": "46abba24",
   "metadata": {},
   "outputs": [],
   "source": [
    "dataset=dataset.drop_duplicates()"
   ]
  },
  {
   "cell_type": "code",
   "execution_count": 14,
   "id": "c5fd4ae6",
   "metadata": {},
   "outputs": [
    {
     "data": {
      "text/plain": [
       "0"
      ]
     },
     "execution_count": 14,
     "metadata": {},
     "output_type": "execute_result"
    }
   ],
   "source": [
    "dataset.duplicated().sum()"
   ]
  },
  {
   "cell_type": "code",
   "execution_count": 15,
   "id": "1577644b",
   "metadata": {},
   "outputs": [
    {
     "data": {
      "text/plain": [
       "0    283253\n",
       "1       473\n",
       "Name: Class, dtype: int64"
      ]
     },
     "execution_count": 15,
     "metadata": {},
     "output_type": "execute_result"
    }
   ],
   "source": [
    "dataset['Class'].value_counts()"
   ]
  },
  {
   "cell_type": "markdown",
   "id": "f74e9351",
   "metadata": {},
   "source": [
    "**Standard scaler uses mean and standard deviation where as robust scaler used median and IQR (inter quartile range)  and also it is less prone to outliers as compared to Standard Scaler"
   ]
  },
  {
   "cell_type": "code",
   "execution_count": 16,
   "id": "29e06536",
   "metadata": {},
   "outputs": [],
   "source": [
    "from sklearn.preprocessing import RobustScaler\n",
    "rbslr=RobustScaler()\n",
    "dataset['Amount']=rbslr.fit_transform(dataset['Amount'].values.reshape(-1,1))\n",
    "dataset['Time']=rbslr.fit_transform(dataset['Time'].values.reshape(-1,1))"
   ]
  },
  {
   "cell_type": "code",
   "execution_count": 17,
   "id": "55f3dfe4",
   "metadata": {},
   "outputs": [
    {
     "data": {
      "text/html": [
       "<div>\n",
       "<style scoped>\n",
       "    .dataframe tbody tr th:only-of-type {\n",
       "        vertical-align: middle;\n",
       "    }\n",
       "\n",
       "    .dataframe tbody tr th {\n",
       "        vertical-align: top;\n",
       "    }\n",
       "\n",
       "    .dataframe thead th {\n",
       "        text-align: right;\n",
       "    }\n",
       "</style>\n",
       "<table border=\"1\" class=\"dataframe\">\n",
       "  <thead>\n",
       "    <tr style=\"text-align: right;\">\n",
       "      <th></th>\n",
       "      <th>Time</th>\n",
       "      <th>V1</th>\n",
       "      <th>V2</th>\n",
       "      <th>V3</th>\n",
       "      <th>V4</th>\n",
       "      <th>V5</th>\n",
       "      <th>V6</th>\n",
       "      <th>V7</th>\n",
       "      <th>V8</th>\n",
       "      <th>V9</th>\n",
       "      <th>...</th>\n",
       "      <th>V21</th>\n",
       "      <th>V22</th>\n",
       "      <th>V23</th>\n",
       "      <th>V24</th>\n",
       "      <th>V25</th>\n",
       "      <th>V26</th>\n",
       "      <th>V27</th>\n",
       "      <th>V28</th>\n",
       "      <th>Amount</th>\n",
       "      <th>Class</th>\n",
       "    </tr>\n",
       "  </thead>\n",
       "  <tbody>\n",
       "    <tr>\n",
       "      <th>0</th>\n",
       "      <td>-0.995290</td>\n",
       "      <td>-1.359807</td>\n",
       "      <td>-0.072781</td>\n",
       "      <td>2.536347</td>\n",
       "      <td>1.378155</td>\n",
       "      <td>-0.338321</td>\n",
       "      <td>0.462388</td>\n",
       "      <td>0.239599</td>\n",
       "      <td>0.098698</td>\n",
       "      <td>0.363787</td>\n",
       "      <td>...</td>\n",
       "      <td>-0.018307</td>\n",
       "      <td>0.277838</td>\n",
       "      <td>-0.110474</td>\n",
       "      <td>0.066928</td>\n",
       "      <td>0.128539</td>\n",
       "      <td>-0.189115</td>\n",
       "      <td>0.133558</td>\n",
       "      <td>-0.021053</td>\n",
       "      <td>1.774718</td>\n",
       "      <td>0</td>\n",
       "    </tr>\n",
       "    <tr>\n",
       "      <th>1</th>\n",
       "      <td>-0.995290</td>\n",
       "      <td>1.191857</td>\n",
       "      <td>0.266151</td>\n",
       "      <td>0.166480</td>\n",
       "      <td>0.448154</td>\n",
       "      <td>0.060018</td>\n",
       "      <td>-0.082361</td>\n",
       "      <td>-0.078803</td>\n",
       "      <td>0.085102</td>\n",
       "      <td>-0.255425</td>\n",
       "      <td>...</td>\n",
       "      <td>-0.225775</td>\n",
       "      <td>-0.638672</td>\n",
       "      <td>0.101288</td>\n",
       "      <td>-0.339846</td>\n",
       "      <td>0.167170</td>\n",
       "      <td>0.125895</td>\n",
       "      <td>-0.008983</td>\n",
       "      <td>0.014724</td>\n",
       "      <td>-0.268530</td>\n",
       "      <td>0</td>\n",
       "    </tr>\n",
       "    <tr>\n",
       "      <th>2</th>\n",
       "      <td>-0.995279</td>\n",
       "      <td>-1.358354</td>\n",
       "      <td>-1.340163</td>\n",
       "      <td>1.773209</td>\n",
       "      <td>0.379780</td>\n",
       "      <td>-0.503198</td>\n",
       "      <td>1.800499</td>\n",
       "      <td>0.791461</td>\n",
       "      <td>0.247676</td>\n",
       "      <td>-1.514654</td>\n",
       "      <td>...</td>\n",
       "      <td>0.247998</td>\n",
       "      <td>0.771679</td>\n",
       "      <td>0.909412</td>\n",
       "      <td>-0.689281</td>\n",
       "      <td>-0.327642</td>\n",
       "      <td>-0.139097</td>\n",
       "      <td>-0.055353</td>\n",
       "      <td>-0.059752</td>\n",
       "      <td>4.959811</td>\n",
       "      <td>0</td>\n",
       "    </tr>\n",
       "    <tr>\n",
       "      <th>3</th>\n",
       "      <td>-0.995279</td>\n",
       "      <td>-0.966272</td>\n",
       "      <td>-0.185226</td>\n",
       "      <td>1.792993</td>\n",
       "      <td>-0.863291</td>\n",
       "      <td>-0.010309</td>\n",
       "      <td>1.247203</td>\n",
       "      <td>0.237609</td>\n",
       "      <td>0.377436</td>\n",
       "      <td>-1.387024</td>\n",
       "      <td>...</td>\n",
       "      <td>-0.108300</td>\n",
       "      <td>0.005274</td>\n",
       "      <td>-0.190321</td>\n",
       "      <td>-1.175575</td>\n",
       "      <td>0.647376</td>\n",
       "      <td>-0.221929</td>\n",
       "      <td>0.062723</td>\n",
       "      <td>0.061458</td>\n",
       "      <td>1.411487</td>\n",
       "      <td>0</td>\n",
       "    </tr>\n",
       "    <tr>\n",
       "      <th>4</th>\n",
       "      <td>-0.995267</td>\n",
       "      <td>-1.158233</td>\n",
       "      <td>0.877737</td>\n",
       "      <td>1.548718</td>\n",
       "      <td>0.403034</td>\n",
       "      <td>-0.407193</td>\n",
       "      <td>0.095921</td>\n",
       "      <td>0.592941</td>\n",
       "      <td>-0.270533</td>\n",
       "      <td>0.817739</td>\n",
       "      <td>...</td>\n",
       "      <td>-0.009431</td>\n",
       "      <td>0.798278</td>\n",
       "      <td>-0.137458</td>\n",
       "      <td>0.141267</td>\n",
       "      <td>-0.206010</td>\n",
       "      <td>0.502292</td>\n",
       "      <td>0.219422</td>\n",
       "      <td>0.215153</td>\n",
       "      <td>0.667362</td>\n",
       "      <td>0</td>\n",
       "    </tr>\n",
       "  </tbody>\n",
       "</table>\n",
       "<p>5 rows × 31 columns</p>\n",
       "</div>"
      ],
      "text/plain": [
       "       Time        V1        V2        V3        V4        V5        V6  \\\n",
       "0 -0.995290 -1.359807 -0.072781  2.536347  1.378155 -0.338321  0.462388   \n",
       "1 -0.995290  1.191857  0.266151  0.166480  0.448154  0.060018 -0.082361   \n",
       "2 -0.995279 -1.358354 -1.340163  1.773209  0.379780 -0.503198  1.800499   \n",
       "3 -0.995279 -0.966272 -0.185226  1.792993 -0.863291 -0.010309  1.247203   \n",
       "4 -0.995267 -1.158233  0.877737  1.548718  0.403034 -0.407193  0.095921   \n",
       "\n",
       "         V7        V8        V9  ...       V21       V22       V23       V24  \\\n",
       "0  0.239599  0.098698  0.363787  ... -0.018307  0.277838 -0.110474  0.066928   \n",
       "1 -0.078803  0.085102 -0.255425  ... -0.225775 -0.638672  0.101288 -0.339846   \n",
       "2  0.791461  0.247676 -1.514654  ...  0.247998  0.771679  0.909412 -0.689281   \n",
       "3  0.237609  0.377436 -1.387024  ... -0.108300  0.005274 -0.190321 -1.175575   \n",
       "4  0.592941 -0.270533  0.817739  ... -0.009431  0.798278 -0.137458  0.141267   \n",
       "\n",
       "        V25       V26       V27       V28    Amount  Class  \n",
       "0  0.128539 -0.189115  0.133558 -0.021053  1.774718      0  \n",
       "1  0.167170  0.125895 -0.008983  0.014724 -0.268530      0  \n",
       "2 -0.327642 -0.139097 -0.055353 -0.059752  4.959811      0  \n",
       "3  0.647376 -0.221929  0.062723  0.061458  1.411487      0  \n",
       "4 -0.206010  0.502292  0.219422  0.215153  0.667362      0  \n",
       "\n",
       "[5 rows x 31 columns]"
      ]
     },
     "execution_count": 17,
     "metadata": {},
     "output_type": "execute_result"
    }
   ],
   "source": [
    "dataset.head()"
   ]
  },
  {
   "cell_type": "markdown",
   "id": "5e80f219",
   "metadata": {},
   "source": [
    "**splitting the data "
   ]
  },
  {
   "cell_type": "code",
   "execution_count": 18,
   "id": "382e1991",
   "metadata": {},
   "outputs": [],
   "source": [
    "X=dataset.drop(['Class'],axis=1)\n",
    "Y=dataset['Class']"
   ]
  },
  {
   "cell_type": "markdown",
   "id": "53b7a322",
   "metadata": {},
   "source": [
    "**random under sampling "
   ]
  },
  {
   "cell_type": "markdown",
   "id": "eef5b9b5",
   "metadata": {},
   "source": [
    "**shufle before creating subsamples"
   ]
  },
  {
   "cell_type": "code",
   "execution_count": 19,
   "id": "8d90d04c",
   "metadata": {},
   "outputs": [],
   "source": [
    "dataset=dataset.sample(frac=1)"
   ]
  },
  {
   "cell_type": "code",
   "execution_count": 20,
   "id": "957538a1",
   "metadata": {},
   "outputs": [],
   "source": [
    "# fraud-classes 473 rows\n",
    "fraud_cl=dataset.loc[dataset['Class']==1]\n",
    "n_fraud_cls=dataset.loc[dataset['Class']==0][:473]\n",
    "\n",
    "df=pd.concat([fraud_cl,n_fraud_cls])\n",
    "\n",
    "#shuffle rows \n",
    "balanced_df=df.sample(frac=1,random_state=42)"
   ]
  },
  {
   "cell_type": "code",
   "execution_count": 21,
   "id": "c14c26fc",
   "metadata": {
    "scrolled": true
   },
   "outputs": [
    {
     "data": {
      "text/html": [
       "<div>\n",
       "<style scoped>\n",
       "    .dataframe tbody tr th:only-of-type {\n",
       "        vertical-align: middle;\n",
       "    }\n",
       "\n",
       "    .dataframe tbody tr th {\n",
       "        vertical-align: top;\n",
       "    }\n",
       "\n",
       "    .dataframe thead th {\n",
       "        text-align: right;\n",
       "    }\n",
       "</style>\n",
       "<table border=\"1\" class=\"dataframe\">\n",
       "  <thead>\n",
       "    <tr style=\"text-align: right;\">\n",
       "      <th></th>\n",
       "      <th>Time</th>\n",
       "      <th>V1</th>\n",
       "      <th>V2</th>\n",
       "      <th>V3</th>\n",
       "      <th>V4</th>\n",
       "      <th>V5</th>\n",
       "      <th>V6</th>\n",
       "      <th>V7</th>\n",
       "      <th>V8</th>\n",
       "      <th>V9</th>\n",
       "      <th>...</th>\n",
       "      <th>V21</th>\n",
       "      <th>V22</th>\n",
       "      <th>V23</th>\n",
       "      <th>V24</th>\n",
       "      <th>V25</th>\n",
       "      <th>V26</th>\n",
       "      <th>V27</th>\n",
       "      <th>V28</th>\n",
       "      <th>Amount</th>\n",
       "      <th>Class</th>\n",
       "    </tr>\n",
       "  </thead>\n",
       "  <tbody>\n",
       "    <tr>\n",
       "      <th>208651</th>\n",
       "      <td>0.617188</td>\n",
       "      <td>0.630579</td>\n",
       "      <td>1.183631</td>\n",
       "      <td>-5.066283</td>\n",
       "      <td>2.179903</td>\n",
       "      <td>-0.703376</td>\n",
       "      <td>-0.103614</td>\n",
       "      <td>-3.490350</td>\n",
       "      <td>1.094734</td>\n",
       "      <td>-0.717418</td>\n",
       "      <td>...</td>\n",
       "      <td>0.621622</td>\n",
       "      <td>0.043807</td>\n",
       "      <td>0.102711</td>\n",
       "      <td>-0.601505</td>\n",
       "      <td>0.127371</td>\n",
       "      <td>-0.163009</td>\n",
       "      <td>0.853792</td>\n",
       "      <td>0.356503</td>\n",
       "      <td>0.242664</td>\n",
       "      <td>1</td>\n",
       "    </tr>\n",
       "    <tr>\n",
       "      <th>221018</th>\n",
       "      <td>0.678097</td>\n",
       "      <td>-3.367770</td>\n",
       "      <td>0.099249</td>\n",
       "      <td>-6.148487</td>\n",
       "      <td>3.401955</td>\n",
       "      <td>0.458307</td>\n",
       "      <td>-1.571630</td>\n",
       "      <td>-1.358708</td>\n",
       "      <td>0.672409</td>\n",
       "      <td>-3.188001</td>\n",
       "      <td>...</td>\n",
       "      <td>0.861308</td>\n",
       "      <td>1.249301</td>\n",
       "      <td>1.850627</td>\n",
       "      <td>-0.117471</td>\n",
       "      <td>1.219815</td>\n",
       "      <td>0.000251</td>\n",
       "      <td>1.036011</td>\n",
       "      <td>0.004367</td>\n",
       "      <td>4.144208</td>\n",
       "      <td>1</td>\n",
       "    </tr>\n",
       "    <tr>\n",
       "      <th>249852</th>\n",
       "      <td>0.821634</td>\n",
       "      <td>1.859722</td>\n",
       "      <td>-0.385551</td>\n",
       "      <td>-0.045093</td>\n",
       "      <td>1.279660</td>\n",
       "      <td>-0.575175</td>\n",
       "      <td>0.244463</td>\n",
       "      <td>-0.768012</td>\n",
       "      <td>0.179253</td>\n",
       "      <td>1.192117</td>\n",
       "      <td>...</td>\n",
       "      <td>0.068463</td>\n",
       "      <td>0.241589</td>\n",
       "      <td>0.278340</td>\n",
       "      <td>0.599858</td>\n",
       "      <td>-0.344193</td>\n",
       "      <td>-0.784353</td>\n",
       "      <td>0.068196</td>\n",
       "      <td>-0.007870</td>\n",
       "      <td>0.319844</td>\n",
       "      <td>0</td>\n",
       "    </tr>\n",
       "    <tr>\n",
       "      <th>151103</th>\n",
       "      <td>0.116725</td>\n",
       "      <td>1.707857</td>\n",
       "      <td>0.024881</td>\n",
       "      <td>-0.488140</td>\n",
       "      <td>3.787548</td>\n",
       "      <td>1.139451</td>\n",
       "      <td>2.914673</td>\n",
       "      <td>-0.743358</td>\n",
       "      <td>0.699136</td>\n",
       "      <td>1.008471</td>\n",
       "      <td>...</td>\n",
       "      <td>0.010865</td>\n",
       "      <td>0.548258</td>\n",
       "      <td>0.091218</td>\n",
       "      <td>-1.007959</td>\n",
       "      <td>-0.082183</td>\n",
       "      <td>0.179709</td>\n",
       "      <td>0.007738</td>\n",
       "      <td>-0.068841</td>\n",
       "      <td>0.163538</td>\n",
       "      <td>1</td>\n",
       "    </tr>\n",
       "    <tr>\n",
       "      <th>39183</th>\n",
       "      <td>-0.528403</td>\n",
       "      <td>-0.964567</td>\n",
       "      <td>-1.643541</td>\n",
       "      <td>-0.187727</td>\n",
       "      <td>1.158253</td>\n",
       "      <td>-2.458336</td>\n",
       "      <td>0.852222</td>\n",
       "      <td>2.785163</td>\n",
       "      <td>-0.303609</td>\n",
       "      <td>0.940006</td>\n",
       "      <td>...</td>\n",
       "      <td>0.447180</td>\n",
       "      <td>0.536204</td>\n",
       "      <td>1.634061</td>\n",
       "      <td>0.203839</td>\n",
       "      <td>0.218749</td>\n",
       "      <td>-0.221886</td>\n",
       "      <td>-0.308555</td>\n",
       "      <td>-0.164500</td>\n",
       "      <td>10.496871</td>\n",
       "      <td>1</td>\n",
       "    </tr>\n",
       "  </tbody>\n",
       "</table>\n",
       "<p>5 rows × 31 columns</p>\n",
       "</div>"
      ],
      "text/plain": [
       "            Time        V1        V2        V3        V4        V5        V6  \\\n",
       "208651  0.617188  0.630579  1.183631 -5.066283  2.179903 -0.703376 -0.103614   \n",
       "221018  0.678097 -3.367770  0.099249 -6.148487  3.401955  0.458307 -1.571630   \n",
       "249852  0.821634  1.859722 -0.385551 -0.045093  1.279660 -0.575175  0.244463   \n",
       "151103  0.116725  1.707857  0.024881 -0.488140  3.787548  1.139451  2.914673   \n",
       "39183  -0.528403 -0.964567 -1.643541 -0.187727  1.158253 -2.458336  0.852222   \n",
       "\n",
       "              V7        V8        V9  ...       V21       V22       V23  \\\n",
       "208651 -3.490350  1.094734 -0.717418  ...  0.621622  0.043807  0.102711   \n",
       "221018 -1.358708  0.672409 -3.188001  ...  0.861308  1.249301  1.850627   \n",
       "249852 -0.768012  0.179253  1.192117  ...  0.068463  0.241589  0.278340   \n",
       "151103 -0.743358  0.699136  1.008471  ...  0.010865  0.548258  0.091218   \n",
       "39183   2.785163 -0.303609  0.940006  ...  0.447180  0.536204  1.634061   \n",
       "\n",
       "             V24       V25       V26       V27       V28     Amount  Class  \n",
       "208651 -0.601505  0.127371 -0.163009  0.853792  0.356503   0.242664      1  \n",
       "221018 -0.117471  1.219815  0.000251  1.036011  0.004367   4.144208      1  \n",
       "249852  0.599858 -0.344193 -0.784353  0.068196 -0.007870   0.319844      0  \n",
       "151103 -1.007959 -0.082183  0.179709  0.007738 -0.068841   0.163538      1  \n",
       "39183   0.203839  0.218749 -0.221886 -0.308555 -0.164500  10.496871      1  \n",
       "\n",
       "[5 rows x 31 columns]"
      ]
     },
     "execution_count": 21,
     "metadata": {},
     "output_type": "execute_result"
    }
   ],
   "source": [
    "balanced_df.head()"
   ]
  },
  {
   "cell_type": "code",
   "execution_count": 22,
   "id": "ea54cb06",
   "metadata": {},
   "outputs": [
    {
     "data": {
      "text/plain": [
       "1    473\n",
       "0    473\n",
       "Name: Class, dtype: int64"
      ]
     },
     "execution_count": 22,
     "metadata": {},
     "output_type": "execute_result"
    }
   ],
   "source": [
    "balanced_df['Class'].value_counts()"
   ]
  },
  {
   "cell_type": "markdown",
   "id": "a10268f6",
   "metadata": {},
   "source": [
    "**Plot the balanced data**"
   ]
  },
  {
   "cell_type": "code",
   "execution_count": 23,
   "id": "fbcae6fd",
   "metadata": {},
   "outputs": [
    {
     "data": {
      "image/png": "[encoded data removed]",
      "text/plain": [
       "<Figure size 432x288 with 1 Axes>"
      ]
     },
     "metadata": {},
     "output_type": "display_data"
    }
   ],
   "source": [
    "sns.countplot(x=balanced_df[\"Class\"])\n",
    "sns.set_theme(style=\"whitegrid\")"
   ]
  },
  {
   "cell_type": "markdown",
   "id": "812197d0",
   "metadata": {},
   "source": [
    "**Plot coorelation matrix**"
   ]
  },
  {
   "cell_type": "code",
   "execution_count": 25,
   "id": "f0cab15f",
   "metadata": {
    "scrolled": true
   },
   "outputs": [
    {
     "data": {
      "image/png": "[encoded data removed]",
      "text/plain": [
       "<Figure size 1728x1440 with 2 Axes>"
      ]
     },
     "metadata": {},
     "output_type": "display_data"
    }
   ],
   "source": [
    "#coorelation matrices\n",
    "plt.subplots(figsize=(24,20))\n",
    "sub_sample_corr = balanced_df.corr()\n",
    "sns.heatmap(sub_sample_corr, cmap='coolwarm_r', annot_kws={'size':20})\n",
    "plt.show()"
   ]
  },
  {
   "cell_type": "markdown",
   "id": "35389324",
   "metadata": {},
   "source": [
    "**From the above Plotting\n",
    "\n",
    "**V10,V12,V14,V17 are highle negatively correlated\n",
    "\n",
    "**V2,V4,V11,V19 are higly postitive correlated \n"
   ]
  },
  {
   "cell_type": "code",
   "execution_count": 26,
   "id": "21a94cac",
   "metadata": {},
   "outputs": [
    {
     "data": {
      "image/png": "[encoded data removed]",
      "text/plain": [
       "<Figure size 1440x288 with 4 Axes>"
      ]
     },
     "metadata": {},
     "output_type": "display_data"
    }
   ],
   "source": [
    "# boxplot \n",
    "# Negative Correlations vs Class \n",
    "f, axes = plt.subplots(ncols=4, figsize=(20,4))\n",
    "\n",
    "sns.boxplot(x=\"Class\", y=\"V10\", data=balanced_df, ax=axes[0])\n",
    "axes[0].set_title('V10 vs Class Negative Correlation')\n",
    "\n",
    "sns.boxplot(x=\"Class\", y=\"V12\", data=balanced_df, ax=axes[1])\n",
    "axes[1].set_title('V12 vs Class Negative Correlation')\n",
    "\n",
    "sns.boxplot(x=\"Class\", y=\"V14\", data=balanced_df,ax=axes[2])\n",
    "axes[2].set_title('V14 vs Class Negative Correlation')\n",
    "\n",
    "sns.boxplot(x=\"Class\", y=\"V17\", data=balanced_df,ax=axes[3])\n",
    "axes[3].set_title('V17 vs Class Negative Correlation')\n",
    "\n",
    "plt.show()"
   ]
  },
  {
   "cell_type": "markdown",
   "id": "e77212cc",
   "metadata": {},
   "source": [
    "**As we can see there are outliers but not extreme ouliers. In fraud detection,ouliers are important beacuse to detect fraud we need alot of information. And removing ouliers will result in loss of information which may can affect the accuracy. So we are not removing the outliers "
   ]
  },
  {
   "cell_type": "markdown",
   "id": "550746c3",
   "metadata": {},
   "source": [
    "**Balanced Dataset information**"
   ]
  },
  {
   "cell_type": "code",
   "execution_count": 27,
   "id": "adb2bce2",
   "metadata": {},
   "outputs": [
    {
     "name": "stdout",
     "output_type": "stream",
     "text": [
      "<class 'pandas.core.frame.DataFrame'>\n",
      "Int64Index: 946 entries, 208651 to 261473\n",
      "Data columns (total 31 columns):\n",
      " #   Column  Non-Null Count  Dtype  \n",
      "---  ------  --------------  -----  \n",
      " 0   Time    946 non-null    float64\n",
      " 1   V1      946 non-null    float64\n",
      " 2   V2      946 non-null    float64\n",
      " 3   V3      946 non-null    float64\n",
      " 4   V4      946 non-null    float64\n",
      " 5   V5      946 non-null    float64\n",
      " 6   V6      946 non-null    float64\n",
      " 7   V7      946 non-null    float64\n",
      " 8   V8      946 non-null    float64\n",
      " 9   V9      946 non-null    float64\n",
      " 10  V10     946 non-null    float64\n",
      " 11  V11     946 non-null    float64\n",
      " 12  V12     946 non-null    float64\n",
      " 13  V13     946 non-null    float64\n",
      " 14  V14     946 non-null    float64\n",
      " 15  V15     946 non-null    float64\n",
      " 16  V16     946 non-null    float64\n",
      " 17  V17     946 non-null    float64\n",
      " 18  V18     946 non-null    float64\n",
      " 19  V19     946 non-null    float64\n",
      " 20  V20     946 non-null    float64\n",
      " 21  V21     946 non-null    float64\n",
      " 22  V22     946 non-null    float64\n",
      " 23  V23     946 non-null    float64\n",
      " 24  V24     946 non-null    float64\n",
      " 25  V25     946 non-null    float64\n",
      " 26  V26     946 non-null    float64\n",
      " 27  V27     946 non-null    float64\n",
      " 28  V28     946 non-null    float64\n",
      " 29  Amount  946 non-null    float64\n",
      " 30  Class   946 non-null    int64  \n",
      "dtypes: float64(30), int64(1)\n",
      "memory usage: 236.5 KB\n"
     ]
    }
   ],
   "source": [
    "balanced_df.info()"
   ]
  },
  {
   "cell_type": "code",
   "execution_count": 28,
   "id": "61aaf620",
   "metadata": {},
   "outputs": [],
   "source": [
    "x=balanced_df.drop('Class',axis=1)\n",
    "y=balanced_df['Class']"
   ]
  },
  {
   "cell_type": "code",
   "execution_count": 29,
   "id": "773f5bff",
   "metadata": {},
   "outputs": [
    {
     "data": {
      "text/html": [
       "<div>\n",
       "<style scoped>\n",
       "    .dataframe tbody tr th:only-of-type {\n",
       "        vertical-align: middle;\n",
       "    }\n",
       "\n",
       "    .dataframe tbody tr th {\n",
       "        vertical-align: top;\n",
       "    }\n",
       "\n",
       "    .dataframe thead th {\n",
       "        text-align: right;\n",
       "    }\n",
       "</style>\n",
       "<table border=\"1\" class=\"dataframe\">\n",
       "  <thead>\n",
       "    <tr style=\"text-align: right;\">\n",
       "      <th></th>\n",
       "      <th>Time</th>\n",
       "      <th>V1</th>\n",
       "      <th>V2</th>\n",
       "      <th>V3</th>\n",
       "      <th>V4</th>\n",
       "      <th>V5</th>\n",
       "      <th>V6</th>\n",
       "      <th>V7</th>\n",
       "      <th>V8</th>\n",
       "      <th>V9</th>\n",
       "      <th>...</th>\n",
       "      <th>V20</th>\n",
       "      <th>V21</th>\n",
       "      <th>V22</th>\n",
       "      <th>V23</th>\n",
       "      <th>V24</th>\n",
       "      <th>V25</th>\n",
       "      <th>V26</th>\n",
       "      <th>V27</th>\n",
       "      <th>V28</th>\n",
       "      <th>Amount</th>\n",
       "    </tr>\n",
       "  </thead>\n",
       "  <tbody>\n",
       "    <tr>\n",
       "      <th>208651</th>\n",
       "      <td>0.617188</td>\n",
       "      <td>0.630579</td>\n",
       "      <td>1.183631</td>\n",
       "      <td>-5.066283</td>\n",
       "      <td>2.179903</td>\n",
       "      <td>-0.703376</td>\n",
       "      <td>-0.103614</td>\n",
       "      <td>-3.490350</td>\n",
       "      <td>1.094734</td>\n",
       "      <td>-0.717418</td>\n",
       "      <td>...</td>\n",
       "      <td>0.357369</td>\n",
       "      <td>0.621622</td>\n",
       "      <td>0.043807</td>\n",
       "      <td>0.102711</td>\n",
       "      <td>-0.601505</td>\n",
       "      <td>0.127371</td>\n",
       "      <td>-0.163009</td>\n",
       "      <td>0.853792</td>\n",
       "      <td>0.356503</td>\n",
       "      <td>0.242664</td>\n",
       "    </tr>\n",
       "    <tr>\n",
       "      <th>221018</th>\n",
       "      <td>0.678097</td>\n",
       "      <td>-3.367770</td>\n",
       "      <td>0.099249</td>\n",
       "      <td>-6.148487</td>\n",
       "      <td>3.401955</td>\n",
       "      <td>0.458307</td>\n",
       "      <td>-1.571630</td>\n",
       "      <td>-1.358708</td>\n",
       "      <td>0.672409</td>\n",
       "      <td>-3.188001</td>\n",
       "      <td>...</td>\n",
       "      <td>0.264699</td>\n",
       "      <td>0.861308</td>\n",
       "      <td>1.249301</td>\n",
       "      <td>1.850627</td>\n",
       "      <td>-0.117471</td>\n",
       "      <td>1.219815</td>\n",
       "      <td>0.000251</td>\n",
       "      <td>1.036011</td>\n",
       "      <td>0.004367</td>\n",
       "      <td>4.144208</td>\n",
       "    </tr>\n",
       "    <tr>\n",
       "      <th>249852</th>\n",
       "      <td>0.821634</td>\n",
       "      <td>1.859722</td>\n",
       "      <td>-0.385551</td>\n",
       "      <td>-0.045093</td>\n",
       "      <td>1.279660</td>\n",
       "      <td>-0.575175</td>\n",
       "      <td>0.244463</td>\n",
       "      <td>-0.768012</td>\n",
       "      <td>0.179253</td>\n",
       "      <td>1.192117</td>\n",
       "      <td>...</td>\n",
       "      <td>-0.152231</td>\n",
       "      <td>0.068463</td>\n",
       "      <td>0.241589</td>\n",
       "      <td>0.278340</td>\n",
       "      <td>0.599858</td>\n",
       "      <td>-0.344193</td>\n",
       "      <td>-0.784353</td>\n",
       "      <td>0.068196</td>\n",
       "      <td>-0.007870</td>\n",
       "      <td>0.319844</td>\n",
       "    </tr>\n",
       "    <tr>\n",
       "      <th>151103</th>\n",
       "      <td>0.116725</td>\n",
       "      <td>1.707857</td>\n",
       "      <td>0.024881</td>\n",
       "      <td>-0.488140</td>\n",
       "      <td>3.787548</td>\n",
       "      <td>1.139451</td>\n",
       "      <td>2.914673</td>\n",
       "      <td>-0.743358</td>\n",
       "      <td>0.699136</td>\n",
       "      <td>1.008471</td>\n",
       "      <td>...</td>\n",
       "      <td>-0.368014</td>\n",
       "      <td>0.010865</td>\n",
       "      <td>0.548258</td>\n",
       "      <td>0.091218</td>\n",
       "      <td>-1.007959</td>\n",
       "      <td>-0.082183</td>\n",
       "      <td>0.179709</td>\n",
       "      <td>0.007738</td>\n",
       "      <td>-0.068841</td>\n",
       "      <td>0.163538</td>\n",
       "    </tr>\n",
       "    <tr>\n",
       "      <th>39183</th>\n",
       "      <td>-0.528403</td>\n",
       "      <td>-0.964567</td>\n",
       "      <td>-1.643541</td>\n",
       "      <td>-0.187727</td>\n",
       "      <td>1.158253</td>\n",
       "      <td>-2.458336</td>\n",
       "      <td>0.852222</td>\n",
       "      <td>2.785163</td>\n",
       "      <td>-0.303609</td>\n",
       "      <td>0.940006</td>\n",
       "      <td>...</td>\n",
       "      <td>1.784449</td>\n",
       "      <td>0.447180</td>\n",
       "      <td>0.536204</td>\n",
       "      <td>1.634061</td>\n",
       "      <td>0.203839</td>\n",
       "      <td>0.218749</td>\n",
       "      <td>-0.221886</td>\n",
       "      <td>-0.308555</td>\n",
       "      <td>-0.164500</td>\n",
       "      <td>10.496871</td>\n",
       "    </tr>\n",
       "  </tbody>\n",
       "</table>\n",
       "<p>5 rows × 30 columns</p>\n",
       "</div>"
      ],
      "text/plain": [
       "            Time        V1        V2        V3        V4        V5        V6  \\\n",
       "208651  0.617188  0.630579  1.183631 -5.066283  2.179903 -0.703376 -0.103614   \n",
       "221018  0.678097 -3.367770  0.099249 -6.148487  3.401955  0.458307 -1.571630   \n",
       "249852  0.821634  1.859722 -0.385551 -0.045093  1.279660 -0.575175  0.244463   \n",
       "151103  0.116725  1.707857  0.024881 -0.488140  3.787548  1.139451  2.914673   \n",
       "39183  -0.528403 -0.964567 -1.643541 -0.187727  1.158253 -2.458336  0.852222   \n",
       "\n",
       "              V7        V8        V9  ...       V20       V21       V22  \\\n",
       "208651 -3.490350  1.094734 -0.717418  ...  0.357369  0.621622  0.043807   \n",
       "221018 -1.358708  0.672409 -3.188001  ...  0.264699  0.861308  1.249301   \n",
       "249852 -0.768012  0.179253  1.192117  ... -0.152231  0.068463  0.241589   \n",
       "151103 -0.743358  0.699136  1.008471  ... -0.368014  0.010865  0.548258   \n",
       "39183   2.785163 -0.303609  0.940006  ...  1.784449  0.447180  0.536204   \n",
       "\n",
       "             V23       V24       V25       V26       V27       V28     Amount  \n",
       "208651  0.102711 -0.601505  0.127371 -0.163009  0.853792  0.356503   0.242664  \n",
       "221018  1.850627 -0.117471  1.219815  0.000251  1.036011  0.004367   4.144208  \n",
       "249852  0.278340  0.599858 -0.344193 -0.784353  0.068196 -0.007870   0.319844  \n",
       "151103  0.091218 -1.007959 -0.082183  0.179709  0.007738 -0.068841   0.163538  \n",
       "39183   1.634061  0.203839  0.218749 -0.221886 -0.308555 -0.164500  10.496871  \n",
       "\n",
       "[5 rows x 30 columns]"
      ]
     },
     "execution_count": 29,
     "metadata": {},
     "output_type": "execute_result"
    }
   ],
   "source": [
    "x.head()"
   ]
  },
  {
   "cell_type": "markdown",
   "id": "42f4f94a",
   "metadata": {},
   "source": [
    "**The train_test_split function takes three arguments: the data we want to split (in this case x and y), the size of the test set (here set to 0.3 or 30%), and an optional random state for reproducibility.\n",
    "\n",
    "**The function returns four arrays: x_train and y_train, which contain the training data, and x_test and y_test, which contain the testing data. These arrays can then be used to train and evaluate a machine learning model."
   ]
  },
  {
   "cell_type": "code",
   "execution_count": 30,
   "id": "96c33598",
   "metadata": {},
   "outputs": [],
   "source": [
    "from sklearn.model_selection import train_test_split\n",
    "x_train,x_test,y_train,y_test=train_test_split(x,y,test_size=0.3)"
   ]
  },
  {
   "cell_type": "markdown",
   "id": "36bf0252",
   "metadata": {},
   "source": [
    "**conversion of X from dataframe to array so that we can use it for prediction**"
   ]
  },
  {
   "cell_type": "code",
   "execution_count": 31,
   "id": "c7eee5fa",
   "metadata": {},
   "outputs": [],
   "source": [
    "x_test,x_train=x_test.values,x_train.values               "
   ]
  },
  {
   "cell_type": "markdown",
   "id": "0485d60d",
   "metadata": {},
   "source": [
    "**Import the LogisticRegression class from the linear_model module, RandomForestClassifier class from the ensemble module, SVC class from the svm module, and various functions from the metrics module. These functions include accuracy_score, classification_report, ConfusionMatrixDisplay, precision_score, recall_score, f1_score, roc_auc_score, and confusion_matrix.\n",
    "\n",
    "**We can use these modules and functions to perform various machine learning tasks such as classification and evaluation of classification models.**"
   ]
  },
  {
   "cell_type": "code",
   "execution_count": 32,
   "id": "ebc3ed20",
   "metadata": {},
   "outputs": [],
   "source": [
    "from sklearn.linear_model import LogisticRegression\n",
    "from sklearn.ensemble import RandomForestClassifier\n",
    "from sklearn.svm import SVC\n",
    "from sklearn.metrics import accuracy_score,classification_report,ConfusionMatrixDisplay,precision_score,recall_score,f1_score,roc_auc_score,confusion_matrix"
   ]
  },
  {
   "cell_type": "code",
   "execution_count": 33,
   "id": "e6a2d0fd",
   "metadata": {},
   "outputs": [
    {
     "name": "stdout",
     "output_type": "stream",
     "text": [
      "Logistic Regression\n",
      "Model performance for training set\n",
      "- Accuracy: 0.9532\n",
      "- F1 score: 0.9531\n",
      "- Precisiom: 0.9807\n",
      "- Recall: 0.9242\n",
      "- Roc Auc Score:0.9531\n",
      "---------\n",
      "Model performance for test set\n",
      "- Accuracy: 0.9437\n",
      "- F1 score: 0.9436\n",
      "- Precisiom: 0.9704\n",
      "- Recall: 0.9161\n",
      "- Roc Auc Score:0.9439\n",
      "==========\n",
      "[[137   4]\n",
      " [ 12 131]]\n",
      "0.9436619718309859\n",
      "===================================\n",
      "\n",
      "\n",
      "Rnadom Forest\n",
      "Model performance for training set\n",
      "- Accuracy: 1.0000\n",
      "- F1 score: 1.0000\n",
      "- Precisiom: 1.0000\n",
      "- Recall: 1.0000\n",
      "- Roc Auc Score:1.0000\n",
      "---------\n",
      "Model performance for test set\n",
      "- Accuracy: 0.9401\n",
      "- F1 score: 0.9401\n",
      "- Precisiom: 0.9773\n",
      "- Recall: 0.9021\n",
      "- Roc Auc Score:0.9404\n",
      "==========\n",
      "[[138   3]\n",
      " [ 14 129]]\n",
      "0.9401408450704225\n",
      "===================================\n",
      "\n",
      "\n",
      "SVC\n",
      "Model performance for training set\n",
      "- Accuracy: 0.9471\n",
      "- F1 score: 0.9470\n",
      "- Precisiom: 0.9836\n",
      "- Recall: 0.9091\n",
      "- Roc Auc Score:0.9470\n",
      "---------\n",
      "Model performance for test set\n",
      "- Accuracy: 0.9296\n",
      "- F1 score: 0.9295\n",
      "- Precisiom: 0.9695\n",
      "- Recall: 0.8881\n",
      "- Roc Auc Score:0.9299\n",
      "==========\n",
      "[[137   4]\n",
      " [ 16 127]]\n",
      "0.9295774647887324\n",
      "===================================\n",
      "\n",
      "\n"
     ]
    }
   ],
   "source": [
    "models={\n",
    "    \"Logistic Regression\":LogisticRegression(),\n",
    "    \"Rnadom Forest\":RandomForestClassifier(),\n",
    "    \"SVC\":SVC()\n",
    "}\n",
    "\n",
    "for i in range(len(list(models))):\n",
    "               model=list(models.values())[i]\n",
    "               model.fit(x_train,y_train)\n",
    "               \n",
    "               #prediction\n",
    "               y_train_pred=model.predict(x_train)\n",
    "               y_test_pred=model.predict(x_test)\n",
    "               \n",
    "               #training performance\n",
    "               model_train_accuracy=accuracy_score(y_train,y_train_pred)\n",
    "               model_train_f1=f1_score(y_train,y_train_pred,average='weighted')\n",
    "               model_train_precision=precision_score(y_train,y_train_pred)\n",
    "               model_train_recall=recall_score(y_train,y_train_pred)\n",
    "               model_train_rocauc_score=roc_auc_score(y_train,y_train_pred)\n",
    "               \n",
    "               \n",
    "               #test performance\n",
    "               model_test_accuracy=accuracy_score(y_test,y_test_pred)\n",
    "               model_test_f1=f1_score(y_test,y_test_pred,average='weighted')\n",
    "               model_test_precision=precision_score(y_test,y_test_pred)\n",
    "               model_test_recall=recall_score(y_test,y_test_pred)\n",
    "               model_test_rocauc_score=roc_auc_score(y_test,y_test_pred)\n",
    "                \n",
    "               \n",
    "               print(list(models.keys())[i])  \n",
    "               \n",
    "               print('Model performance for training set')\n",
    "               print(\"- Accuracy: {:.4f}\" .format(model_train_accuracy))\n",
    "               print(\"- F1 score: {:.4f}\" .format(model_train_f1))\n",
    "               \n",
    "               print(\"- Precisiom: {:.4f}\" .format(model_train_precision))\n",
    "               print(\"- Recall: {:.4f}\" .format(model_train_recall))\n",
    "               print(\"- Roc Auc Score:{:.4f}\" .format(model_train_rocauc_score))\n",
    "               \n",
    "               print('---------')\n",
    "               print('Model performance for test set')\n",
    "               print(\"- Accuracy: {:.4f}\" .format(model_test_accuracy))\n",
    "               print(\"- F1 score: {:.4f}\" .format(model_test_f1))\n",
    "               \n",
    "               print(\"- Precisiom: {:.4f}\" .format(model_test_precision))\n",
    "               print(\"- Recall: {:.4f}\" .format(model_test_recall))\n",
    "               print(\"- Roc Auc Score:{:.4f}\".format(model_test_rocauc_score))\n",
    "               print('='*10)\n",
    "               print(confusion_matrix(y_test,y_test_pred))   \n",
    "               print(accuracy_score(y_test,y_test_pred))\n",
    "               \n",
    "               print('='*35)\n",
    "               print('\\n')"
   ]
  },
  {
   "cell_type": "markdown",
   "id": "74e8d7cf",
   "metadata": {},
   "source": [
    "**From the above we can see that Logistic Regression performing better,so creating the ROC curve to check how better the model is trained**"
   ]
  },
  {
   "cell_type": "code",
   "execution_count": 284,
   "id": "85942f5f",
   "metadata": {},
   "outputs": [
    {
     "name": "stderr",
     "output_type": "stream",
     "text": [
      "No artists with labels found to put in legend.  Note that artists whose label start with an underscore are ignored when legend() is called with no argument.\n"
     ]
    },
    {
     "data": {
      "image/png": "[encoded data removed]",
      "text/plain": [
       "<Figure size 640x480 with 1 Axes>"
      ]
     },
     "metadata": {},
     "output_type": "display_data"
    }
   ],
   "source": [
    "from sklearn.metrics import roc_auc_score,roc_curve\n",
    "plt.figure()\n",
    "\n",
    "auc_models=[\n",
    "    {\n",
    "        'label':'Logistic Regression',\n",
    "        'model': LogisticRegression(random_state=0),\n",
    "         'auc':  94.4  \n",
    "    },\n",
    "]\n",
    "\n",
    "for algo in auc_models:\n",
    "    model=algo['model']\n",
    "    model.fit(x_train,y_train)\n",
    "    \n",
    "    # tpr and fpr \n",
    "    fpr,tpr,threshold=roc_curve(y_test,model.predict_proba(x_test)[:,1])\n",
    "    \n",
    "    # area under curve\n",
    "    plt.plot(fpr,tpr)\n",
    "    \n",
    "    plt.plot([0,1],[0,1],'r--')\n",
    "    plt.xlim([0.0,1.0])\n",
    "    plt.ylim([0.0,1.0])\n",
    "    plt.xlabel('1-Specificity(False Positive Rate)')\n",
    "    plt.ylabel('Sensitivity(True Positive Rate)')\n",
    "    plt.title('Receiver operating characterisitcs')\n",
    "    plt.legend(loc='lower right')\n",
    "    plt.savefig('auc.png')\n",
    "    plt.show()"
   ]
  },
  {
   "cell_type": "markdown",
   "id": "83f0efcb",
   "metadata": {},
   "source": [
    "**predicting the test set**"
   ]
  },
  {
   "cell_type": "code",
   "execution_count": 34,
   "id": "3a3ecb2a",
   "metadata": {},
   "outputs": [],
   "source": [
    "y_pred=model.predict(x_test)\n"
   ]
  },
  {
   "cell_type": "code",
   "execution_count": 35,
   "id": "d991636c",
   "metadata": {},
   "outputs": [
    {
     "data": {
      "text/plain": [
       "array([0, 1, 1, 0, 0, 0, 1, 1, 0, 1, 0, 0, 1, 0, 0, 1, 1, 0, 0, 0, 1, 1,\n",
       "       0, 1, 0, 0, 1, 1, 0, 0, 1, 0, 1, 0, 0, 1, 1, 1, 0, 0, 0, 1, 0, 0,\n",
       "       1, 0, 0, 0, 0, 0, 0, 1, 1, 1, 1, 0, 0, 1, 1, 1, 1, 1, 1, 0, 1, 0,\n",
       "       1, 0, 0, 0, 1, 0, 0, 0, 0, 1, 1, 0, 0, 0, 1, 0, 1, 1, 0, 1, 0, 0,\n",
       "       1, 0, 0, 1, 1, 0, 0, 1, 1, 1, 1, 0, 0, 1, 0, 0, 0, 1, 0, 1, 0, 0,\n",
       "       1, 0, 1, 1, 0, 1, 1, 1, 1, 1, 1, 0, 0, 0, 1, 0, 0, 0, 0, 0, 1, 0,\n",
       "       1, 1, 0, 0, 0, 1, 0, 1, 1, 1, 0, 0, 0, 1, 1, 0, 1, 0, 1, 0, 1, 1,\n",
       "       1, 1, 1, 0, 0, 1, 0, 0, 0, 1, 1, 0, 0, 0, 0, 0, 0, 0, 1, 1, 1, 1,\n",
       "       0, 0, 0, 1, 0, 0, 0, 0, 0, 0, 0, 1, 1, 0, 0, 0, 1, 0, 1, 0, 1, 1,\n",
       "       1, 1, 0, 0, 1, 0, 1, 0, 0, 1, 0, 0, 1, 0, 1, 1, 1, 0, 0, 1, 0, 0,\n",
       "       0, 0, 0, 0, 1, 1, 1, 1, 1, 1, 1, 1, 0, 1, 1, 0, 0, 1, 1, 0, 0, 0,\n",
       "       0, 0, 1, 0, 0, 1, 0, 1, 0, 1, 0, 0, 1, 0, 0, 1, 0, 1, 0, 1, 0, 0,\n",
       "       1, 0, 0, 1, 1, 1, 1, 0, 1, 0, 1, 1, 1, 0, 0, 0, 1, 1, 0, 1])"
      ]
     },
     "execution_count": 35,
     "metadata": {},
     "output_type": "execute_result"
    }
   ],
   "source": [
    "y_pred"
   ]
  },
  {
   "cell_type": "markdown",
   "id": "378c11df",
   "metadata": {},
   "source": [
    "**Creating the pickle file**"
   ]
  },
  {
   "cell_type": "code",
   "execution_count": 36,
   "id": "ebfe562a",
   "metadata": {},
   "outputs": [],
   "source": [
    "import pickle\n",
    "filename='credit_Card'\n",
    "pickle.dump(models,open(filename,'wb'))"
   ]
  },
  {
   "cell_type": "markdown",
   "id": "19f00e47",
   "metadata": {},
   "source": [
    "**Size of test and train set**"
   ]
  },
  {
   "cell_type": "code",
   "execution_count": 37,
   "id": "022c599a",
   "metadata": {},
   "outputs": [
    {
     "data": {
      "text/plain": [
       "(284, 30)"
      ]
     },
     "execution_count": 37,
     "metadata": {},
     "output_type": "execute_result"
    }
   ],
   "source": [
    "x_test.shape"
   ]
  },
  {
   "cell_type": "code",
   "execution_count": 38,
   "id": "44fe987a",
   "metadata": {},
   "outputs": [
    {
     "data": {
      "text/plain": [
       "(284,)"
      ]
     },
     "execution_count": 38,
     "metadata": {},
     "output_type": "execute_result"
    }
   ],
   "source": [
    "y_test.shape"
   ]
  },
  {
   "cell_type": "code",
   "execution_count": 41,
   "id": "3fbcfb10",
   "metadata": {},
   "outputs": [
    {
     "data": {
      "text/plain": [
       "(662, 30)"
      ]
     },
     "execution_count": 41,
     "metadata": {},
     "output_type": "execute_result"
    }
   ],
   "source": [
    "x_train.shape"
   ]
  },
  {
   "cell_type": "code",
   "execution_count": 42,
   "id": "a5b4221a",
   "metadata": {},
   "outputs": [
    {
     "data": {
      "text/plain": [
       "(662,)"
      ]
     },
     "execution_count": 42,
     "metadata": {},
     "output_type": "execute_result"
    }
   ],
   "source": [
    "y_train.shape"
   ]
  },
  {
   "cell_type": "markdown",
   "id": "bbaa7bbc",
   "metadata": {},
   "source": [
    "**Checking if the model is correctly predicting**"
   ]
  },
  {
   "cell_type": "code",
   "execution_count": 44,
   "id": "29c112a9",
   "metadata": {},
   "outputs": [
    {
     "data": {
      "text/plain": [
       "array([1])"
      ]
     },
     "execution_count": 44,
     "metadata": {},
     "output_type": "execute_result"
    }
   ],
   "source": [
    "y_pred = model.predict([[-0.906846,1.234235046,3.019740421,-4.304596885,4.73279513,3.624200831,-1.357745663,1.713444988,-0.496358487,-1.28285782,-2.447469255,2.101343865,-4.609628391,1.464377625,-6.079337193,-0.339237373,2.581850954,6.739384385,3.042493178,-2.721853122,0.009060836,-0.379068307,-0.704181032,-0.656804756,-1.632652957,1.488901448,0.566797273,-0.010016223,0.146792735,-0.292032]])\n",
    "y_pred"
   ]
  }
 ],
 "metadata": {
  "kernelspec": {
   "display_name": "Python 3 (ipykernel)",
   "language": "python",
   "name": "python3"
  },
  "language_info": {
   "codemirror_mode": {
    "name": "ipython",
    "version": 3
   },
   "file_extension": ".py",
   "mimetype": "text/x-python",
   "name": "python",
   "nbconvert_exporter": "python",
   "pygments_lexer": "ipython3",
   "version": "3.10.9"
  }
 },
 "nbformat": 4,
 "nbformat_minor": 5
}
